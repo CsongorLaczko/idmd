{
  "cells": [
    {
      "cell_type": "markdown",
      "metadata": {},
      "source": [
        "# Example Application for the `idmd` Package\n",
        "\n",
        "This notebook demonstrates the capabilities of the `idmd` package, a powerful tool for creating interactive dashboard websites for data manipulation and visualization."
      ]
    },
    {
      "cell_type": "markdown",
      "metadata": {},
      "source": [
        "## Overview\n",
        "\n",
        "The `idmd` package provides a suite of components for building interactive web-based data applications. \n",
        "These components include tools for uploading, previewing, manipulating, visualizing, and exporting data, \n",
        "as well as generating reports. This example showcases how to use these components to create a fully functional dashboard."
      ]
    },
    {
      "cell_type": "markdown",
      "metadata": {
        "colab_type": "text",
        "id": "view-in-github"
      },
      "source": [
        "<a href=\"https://colab.research.google.com/github/CsongorLaczko/idmd/blob/main/example_app.ipynb\" target=\"_parent\"><img src=\"https://colab.research.google.com/assets/colab-badge.svg\" alt=\"Open In Colab\"/></a>"
      ]
    },
    {
      "cell_type": "markdown",
      "metadata": {
        "id": "XH3NLOEem5nR"
      },
      "source": [
        "## Installation\n",
        "\n",
        "Install the package from TestPyPI with dependencies from PyPI:"
      ]
    },
    {
      "cell_type": "code",
      "execution_count": 7,
      "metadata": {
        "id": "8ujHQ6YDVgk_"
      },
      "outputs": [
        {
          "name": "stdout",
          "output_type": "stream",
          "text": [
            "Looking in indexes: https://test.pypi.org/simple/, https://pypi.org/simple\n",
            "Requirement already satisfied: idmd in ./.venv/lib/python3.12/site-packages (0.0)\n",
            "Requirement already satisfied: streamlit==1.44.0 in ./.venv/lib/python3.12/site-packages (from idmd) (1.44.0)\n",
            "Requirement already satisfied: pandas==2.2.3 in ./.venv/lib/python3.12/site-packages (from idmd) (2.2.3)\n",
            "Requirement already satisfied: seaborn==0.13.2 in ./.venv/lib/python3.12/site-packages (from idmd) (0.13.2)\n",
            "Requirement already satisfied: matplotlib==3.10.1 in ./.venv/lib/python3.12/site-packages (from idmd) (3.10.1)\n",
            "Requirement already satisfied: openpyxl==3.1.5 in ./.venv/lib/python3.12/site-packages (from idmd) (3.1.5)\n",
            "Requirement already satisfied: sphinx_rtd_theme in ./.venv/lib/python3.12/site-packages (from idmd) (3.0.2)\n",
            "Requirement already satisfied: pandas==2.2.3 in ./.venv/lib/python3.12/site-packages (from idmd) (2.2.3)\n",
            "Requirement already satisfied: seaborn==0.13.2 in ./.venv/lib/python3.12/site-packages (from idmd) (0.13.2)\n",
            "Requirement already satisfied: matplotlib==3.10.1 in ./.venv/lib/python3.12/site-packages (from idmd) (3.10.1)\n",
            "Requirement already satisfied: openpyxl==3.1.5 in ./.venv/lib/python3.12/site-packages (from idmd) (3.1.5)\n",
            "Requirement already satisfied: sphinx_rtd_theme in ./.venv/lib/python3.12/site-packages (from idmd) (3.0.2)\n",
            "Requirement already satisfied: contourpy>=1.0.1 in ./.venv/lib/python3.12/site-packages (from matplotlib==3.10.1->idmd) (1.3.1)\n",
            "Requirement already satisfied: cycler>=0.10 in ./.venv/lib/python3.12/site-packages (from matplotlib==3.10.1->idmd) (0.12.1)\n",
            "Requirement already satisfied: fonttools>=4.22.0 in ./.venv/lib/python3.12/site-packages (from matplotlib==3.10.1->idmd) (4.56.0)\n",
            "Requirement already satisfied: kiwisolver>=1.3.1 in ./.venv/lib/python3.12/site-packages (from matplotlib==3.10.1->idmd) (1.4.8)\n",
            "Requirement already satisfied: contourpy>=1.0.1 in ./.venv/lib/python3.12/site-packages (from matplotlib==3.10.1->idmd) (1.3.1)\n",
            "Requirement already satisfied: cycler>=0.10 in ./.venv/lib/python3.12/site-packages (from matplotlib==3.10.1->idmd) (0.12.1)\n",
            "Requirement already satisfied: fonttools>=4.22.0 in ./.venv/lib/python3.12/site-packages (from matplotlib==3.10.1->idmd) (4.56.0)\n",
            "Requirement already satisfied: kiwisolver>=1.3.1 in ./.venv/lib/python3.12/site-packages (from matplotlib==3.10.1->idmd) (1.4.8)\n",
            "Requirement already satisfied: numpy>=1.23 in ./.venv/lib/python3.12/site-packages (from matplotlib==3.10.1->idmd) (2.2.4)\n",
            "Requirement already satisfied: packaging>=20.0 in ./.venv/lib/python3.12/site-packages (from matplotlib==3.10.1->idmd) (24.2)\n",
            "Requirement already satisfied: pillow>=8 in ./.venv/lib/python3.12/site-packages (from matplotlib==3.10.1->idmd) (11.1.0)\n",
            "Requirement already satisfied: pyparsing>=2.3.1 in ./.venv/lib/python3.12/site-packages (from matplotlib==3.10.1->idmd) (3.2.3)\n",
            "Requirement already satisfied: python-dateutil>=2.7 in ./.venv/lib/python3.12/site-packages (from matplotlib==3.10.1->idmd) (2.9.0.post0)\n",
            "Requirement already satisfied: et-xmlfile in ./.venv/lib/python3.12/site-packages (from openpyxl==3.1.5->idmd) (2.0.0)\n",
            "Requirement already satisfied: numpy>=1.23 in ./.venv/lib/python3.12/site-packages (from matplotlib==3.10.1->idmd) (2.2.4)\n",
            "Requirement already satisfied: packaging>=20.0 in ./.venv/lib/python3.12/site-packages (from matplotlib==3.10.1->idmd) (24.2)\n",
            "Requirement already satisfied: pillow>=8 in ./.venv/lib/python3.12/site-packages (from matplotlib==3.10.1->idmd) (11.1.0)\n",
            "Requirement already satisfied: pyparsing>=2.3.1 in ./.venv/lib/python3.12/site-packages (from matplotlib==3.10.1->idmd) (3.2.3)\n",
            "Requirement already satisfied: python-dateutil>=2.7 in ./.venv/lib/python3.12/site-packages (from matplotlib==3.10.1->idmd) (2.9.0.post0)\n",
            "Requirement already satisfied: et-xmlfile in ./.venv/lib/python3.12/site-packages (from openpyxl==3.1.5->idmd) (2.0.0)\n",
            "Requirement already satisfied: pytz>=2020.1 in ./.venv/lib/python3.12/site-packages (from pandas==2.2.3->idmd) (2025.2)\n",
            "Requirement already satisfied: tzdata>=2022.7 in ./.venv/lib/python3.12/site-packages (from pandas==2.2.3->idmd) (2025.2)\n",
            "Requirement already satisfied: pytz>=2020.1 in ./.venv/lib/python3.12/site-packages (from pandas==2.2.3->idmd) (2025.2)\n",
            "Requirement already satisfied: tzdata>=2022.7 in ./.venv/lib/python3.12/site-packages (from pandas==2.2.3->idmd) (2025.2)\n",
            "Requirement already satisfied: altair<6,>=4.0 in ./.venv/lib/python3.12/site-packages (from streamlit==1.44.0->idmd) (5.5.0)\n",
            "Requirement already satisfied: blinker<2,>=1.0.0 in ./.venv/lib/python3.12/site-packages (from streamlit==1.44.0->idmd) (1.9.0)\n",
            "Requirement already satisfied: altair<6,>=4.0 in ./.venv/lib/python3.12/site-packages (from streamlit==1.44.0->idmd) (5.5.0)\n",
            "Requirement already satisfied: blinker<2,>=1.0.0 in ./.venv/lib/python3.12/site-packages (from streamlit==1.44.0->idmd) (1.9.0)\n",
            "Requirement already satisfied: cachetools<6,>=4.0 in ./.venv/lib/python3.12/site-packages (from streamlit==1.44.0->idmd) (5.5.2)\n",
            "Requirement already satisfied: click<9,>=7.0 in ./.venv/lib/python3.12/site-packages (from streamlit==1.44.0->idmd) (8.1.8)\n",
            "Requirement already satisfied: protobuf<6,>=3.20 in ./.venv/lib/python3.12/site-packages (from streamlit==1.44.0->idmd) (5.29.4)\n",
            "Requirement already satisfied: pyarrow>=7.0 in ./.venv/lib/python3.12/site-packages (from streamlit==1.44.0->idmd) (19.0.1)\n",
            "Requirement already satisfied: requests<3,>=2.27 in ./.venv/lib/python3.12/site-packages (from streamlit==1.44.0->idmd) (2.32.3)\n",
            "Requirement already satisfied: tenacity<10,>=8.1.0 in ./.venv/lib/python3.12/site-packages (from streamlit==1.44.0->idmd) (9.0.0)\n",
            "Requirement already satisfied: toml<2,>=0.10.1 in ./.venv/lib/python3.12/site-packages (from streamlit==1.44.0->idmd) (0.10.2)\n",
            "Requirement already satisfied: typing-extensions<5,>=4.4.0 in ./.venv/lib/python3.12/site-packages (from streamlit==1.44.0->idmd) (4.13.0)\n",
            "Requirement already satisfied: cachetools<6,>=4.0 in ./.venv/lib/python3.12/site-packages (from streamlit==1.44.0->idmd) (5.5.2)\n",
            "Requirement already satisfied: click<9,>=7.0 in ./.venv/lib/python3.12/site-packages (from streamlit==1.44.0->idmd) (8.1.8)\n",
            "Requirement already satisfied: protobuf<6,>=3.20 in ./.venv/lib/python3.12/site-packages (from streamlit==1.44.0->idmd) (5.29.4)\n",
            "Requirement already satisfied: pyarrow>=7.0 in ./.venv/lib/python3.12/site-packages (from streamlit==1.44.0->idmd) (19.0.1)\n",
            "Requirement already satisfied: requests<3,>=2.27 in ./.venv/lib/python3.12/site-packages (from streamlit==1.44.0->idmd) (2.32.3)\n",
            "Requirement already satisfied: tenacity<10,>=8.1.0 in ./.venv/lib/python3.12/site-packages (from streamlit==1.44.0->idmd) (9.0.0)\n",
            "Requirement already satisfied: toml<2,>=0.10.1 in ./.venv/lib/python3.12/site-packages (from streamlit==1.44.0->idmd) (0.10.2)\n",
            "Requirement already satisfied: typing-extensions<5,>=4.4.0 in ./.venv/lib/python3.12/site-packages (from streamlit==1.44.0->idmd) (4.13.0)\n",
            "Requirement already satisfied: watchdog<7,>=2.1.5 in ./.venv/lib/python3.12/site-packages (from streamlit==1.44.0->idmd) (6.0.0)\n",
            "Requirement already satisfied: gitpython!=3.1.19,<4,>=3.0.7 in ./.venv/lib/python3.12/site-packages (from streamlit==1.44.0->idmd) (3.1.44)\n",
            "Requirement already satisfied: pydeck<1,>=0.8.0b4 in ./.venv/lib/python3.12/site-packages (from streamlit==1.44.0->idmd) (0.9.1)\n",
            "Requirement already satisfied: tornado<7,>=6.0.3 in ./.venv/lib/python3.12/site-packages (from streamlit==1.44.0->idmd) (6.4.2)\n",
            "Requirement already satisfied: sphinx<9,>=6 in ./.venv/lib/python3.12/site-packages (from sphinx_rtd_theme->idmd) (8.2.3)\n",
            "Requirement already satisfied: docutils<0.22,>0.18 in ./.venv/lib/python3.12/site-packages (from sphinx_rtd_theme->idmd) (0.21.2)\n",
            "Requirement already satisfied: sphinxcontrib-jquery<5,>=4 in ./.venv/lib/python3.12/site-packages (from sphinx_rtd_theme->idmd) (4.1)\n",
            "Requirement already satisfied: watchdog<7,>=2.1.5 in ./.venv/lib/python3.12/site-packages (from streamlit==1.44.0->idmd) (6.0.0)\n",
            "Requirement already satisfied: gitpython!=3.1.19,<4,>=3.0.7 in ./.venv/lib/python3.12/site-packages (from streamlit==1.44.0->idmd) (3.1.44)\n",
            "Requirement already satisfied: pydeck<1,>=0.8.0b4 in ./.venv/lib/python3.12/site-packages (from streamlit==1.44.0->idmd) (0.9.1)\n",
            "Requirement already satisfied: tornado<7,>=6.0.3 in ./.venv/lib/python3.12/site-packages (from streamlit==1.44.0->idmd) (6.4.2)\n",
            "Requirement already satisfied: sphinx<9,>=6 in ./.venv/lib/python3.12/site-packages (from sphinx_rtd_theme->idmd) (8.2.3)\n",
            "Requirement already satisfied: docutils<0.22,>0.18 in ./.venv/lib/python3.12/site-packages (from sphinx_rtd_theme->idmd) (0.21.2)\n",
            "Requirement already satisfied: sphinxcontrib-jquery<5,>=4 in ./.venv/lib/python3.12/site-packages (from sphinx_rtd_theme->idmd) (4.1)\n",
            "Requirement already satisfied: jinja2 in ./.venv/lib/python3.12/site-packages (from altair<6,>=4.0->streamlit==1.44.0->idmd) (3.1.6)\n",
            "Requirement already satisfied: jsonschema>=3.0 in ./.venv/lib/python3.12/site-packages (from altair<6,>=4.0->streamlit==1.44.0->idmd) (4.23.0)\n",
            "Requirement already satisfied: narwhals>=1.14.2 in ./.venv/lib/python3.12/site-packages (from altair<6,>=4.0->streamlit==1.44.0->idmd) (1.32.0)\n",
            "Requirement already satisfied: jinja2 in ./.venv/lib/python3.12/site-packages (from altair<6,>=4.0->streamlit==1.44.0->idmd) (3.1.6)\n",
            "Requirement already satisfied: jsonschema>=3.0 in ./.venv/lib/python3.12/site-packages (from altair<6,>=4.0->streamlit==1.44.0->idmd) (4.23.0)\n",
            "Requirement already satisfied: narwhals>=1.14.2 in ./.venv/lib/python3.12/site-packages (from altair<6,>=4.0->streamlit==1.44.0->idmd) (1.32.0)\n",
            "Requirement already satisfied: gitdb<5,>=4.0.1 in ./.venv/lib/python3.12/site-packages (from gitpython!=3.1.19,<4,>=3.0.7->streamlit==1.44.0->idmd) (4.0.12)\n",
            "Requirement already satisfied: gitdb<5,>=4.0.1 in ./.venv/lib/python3.12/site-packages (from gitpython!=3.1.19,<4,>=3.0.7->streamlit==1.44.0->idmd) (4.0.12)\n",
            "Requirement already satisfied: six>=1.5 in ./.venv/lib/python3.12/site-packages (from python-dateutil>=2.7->matplotlib==3.10.1->idmd) (1.17.0)\n",
            "Requirement already satisfied: six>=1.5 in ./.venv/lib/python3.12/site-packages (from python-dateutil>=2.7->matplotlib==3.10.1->idmd) (1.17.0)\n",
            "Requirement already satisfied: charset-normalizer<4,>=2 in ./.venv/lib/python3.12/site-packages (from requests<3,>=2.27->streamlit==1.44.0->idmd) (3.4.1)\n",
            "Requirement already satisfied: idna<4,>=2.5 in ./.venv/lib/python3.12/site-packages (from requests<3,>=2.27->streamlit==1.44.0->idmd) (3.10)\n",
            "Requirement already satisfied: urllib3<3,>=1.21.1 in ./.venv/lib/python3.12/site-packages (from requests<3,>=2.27->streamlit==1.44.0->idmd) (2.3.0)\n",
            "Requirement already satisfied: certifi>=2017.4.17 in ./.venv/lib/python3.12/site-packages (from requests<3,>=2.27->streamlit==1.44.0->idmd) (2025.1.31)\n",
            "Requirement already satisfied: charset-normalizer<4,>=2 in ./.venv/lib/python3.12/site-packages (from requests<3,>=2.27->streamlit==1.44.0->idmd) (3.4.1)\n",
            "Requirement already satisfied: idna<4,>=2.5 in ./.venv/lib/python3.12/site-packages (from requests<3,>=2.27->streamlit==1.44.0->idmd) (3.10)\n",
            "Requirement already satisfied: urllib3<3,>=1.21.1 in ./.venv/lib/python3.12/site-packages (from requests<3,>=2.27->streamlit==1.44.0->idmd) (2.3.0)\n",
            "Requirement already satisfied: certifi>=2017.4.17 in ./.venv/lib/python3.12/site-packages (from requests<3,>=2.27->streamlit==1.44.0->idmd) (2025.1.31)\n",
            "Requirement already satisfied: sphinxcontrib-applehelp>=1.0.7 in ./.venv/lib/python3.12/site-packages (from sphinx<9,>=6->sphinx_rtd_theme->idmd) (2.0.0)\n",
            "Requirement already satisfied: sphinxcontrib-devhelp>=1.0.6 in ./.venv/lib/python3.12/site-packages (from sphinx<9,>=6->sphinx_rtd_theme->idmd) (2.0.0)\n",
            "Requirement already satisfied: sphinxcontrib-htmlhelp>=2.0.6 in ./.venv/lib/python3.12/site-packages (from sphinx<9,>=6->sphinx_rtd_theme->idmd) (2.1.0)\n",
            "Requirement already satisfied: sphinxcontrib-jsmath>=1.0.1 in ./.venv/lib/python3.12/site-packages (from sphinx<9,>=6->sphinx_rtd_theme->idmd) (1.0.1)\n",
            "Requirement already satisfied: sphinxcontrib-qthelp>=1.0.6 in ./.venv/lib/python3.12/site-packages (from sphinx<9,>=6->sphinx_rtd_theme->idmd) (2.0.0)\n",
            "Requirement already satisfied: sphinxcontrib-serializinghtml>=1.1.9 in ./.venv/lib/python3.12/site-packages (from sphinx<9,>=6->sphinx_rtd_theme->idmd) (2.0.0)\n",
            "Requirement already satisfied: Pygments>=2.17 in ./.venv/lib/python3.12/site-packages (from sphinx<9,>=6->sphinx_rtd_theme->idmd) (2.19.1)\n",
            "Requirement already satisfied: snowballstemmer>=2.2 in ./.venv/lib/python3.12/site-packages (from sphinx<9,>=6->sphinx_rtd_theme->idmd) (2.2.0)\n",
            "Requirement already satisfied: babel>=2.13 in ./.venv/lib/python3.12/site-packages (from sphinx<9,>=6->sphinx_rtd_theme->idmd) (2.17.0)\n",
            "Requirement already satisfied: sphinxcontrib-applehelp>=1.0.7 in ./.venv/lib/python3.12/site-packages (from sphinx<9,>=6->sphinx_rtd_theme->idmd) (2.0.0)\n",
            "Requirement already satisfied: sphinxcontrib-devhelp>=1.0.6 in ./.venv/lib/python3.12/site-packages (from sphinx<9,>=6->sphinx_rtd_theme->idmd) (2.0.0)\n",
            "Requirement already satisfied: sphinxcontrib-htmlhelp>=2.0.6 in ./.venv/lib/python3.12/site-packages (from sphinx<9,>=6->sphinx_rtd_theme->idmd) (2.1.0)\n",
            "Requirement already satisfied: sphinxcontrib-jsmath>=1.0.1 in ./.venv/lib/python3.12/site-packages (from sphinx<9,>=6->sphinx_rtd_theme->idmd) (1.0.1)\n",
            "Requirement already satisfied: sphinxcontrib-qthelp>=1.0.6 in ./.venv/lib/python3.12/site-packages (from sphinx<9,>=6->sphinx_rtd_theme->idmd) (2.0.0)\n",
            "Requirement already satisfied: sphinxcontrib-serializinghtml>=1.1.9 in ./.venv/lib/python3.12/site-packages (from sphinx<9,>=6->sphinx_rtd_theme->idmd) (2.0.0)\n",
            "Requirement already satisfied: Pygments>=2.17 in ./.venv/lib/python3.12/site-packages (from sphinx<9,>=6->sphinx_rtd_theme->idmd) (2.19.1)\n",
            "Requirement already satisfied: snowballstemmer>=2.2 in ./.venv/lib/python3.12/site-packages (from sphinx<9,>=6->sphinx_rtd_theme->idmd) (2.2.0)\n",
            "Requirement already satisfied: babel>=2.13 in ./.venv/lib/python3.12/site-packages (from sphinx<9,>=6->sphinx_rtd_theme->idmd) (2.17.0)\n",
            "Requirement already satisfied: alabaster>=0.7.14 in ./.venv/lib/python3.12/site-packages (from sphinx<9,>=6->sphinx_rtd_theme->idmd) (1.0.0)\n",
            "Requirement already satisfied: imagesize>=1.3 in ./.venv/lib/python3.12/site-packages (from sphinx<9,>=6->sphinx_rtd_theme->idmd) (1.4.1)\n",
            "Requirement already satisfied: roman-numerals-py>=1.0.0 in ./.venv/lib/python3.12/site-packages (from sphinx<9,>=6->sphinx_rtd_theme->idmd) (3.1.0)\n",
            "Requirement already satisfied: alabaster>=0.7.14 in ./.venv/lib/python3.12/site-packages (from sphinx<9,>=6->sphinx_rtd_theme->idmd) (1.0.0)\n",
            "Requirement already satisfied: imagesize>=1.3 in ./.venv/lib/python3.12/site-packages (from sphinx<9,>=6->sphinx_rtd_theme->idmd) (1.4.1)\n",
            "Requirement already satisfied: roman-numerals-py>=1.0.0 in ./.venv/lib/python3.12/site-packages (from sphinx<9,>=6->sphinx_rtd_theme->idmd) (3.1.0)\n",
            "Requirement already satisfied: smmap<6,>=3.0.1 in ./.venv/lib/python3.12/site-packages (from gitdb<5,>=4.0.1->gitpython!=3.1.19,<4,>=3.0.7->streamlit==1.44.0->idmd) (5.0.2)\n",
            "Requirement already satisfied: smmap<6,>=3.0.1 in ./.venv/lib/python3.12/site-packages (from gitdb<5,>=4.0.1->gitpython!=3.1.19,<4,>=3.0.7->streamlit==1.44.0->idmd) (5.0.2)\n",
            "Requirement already satisfied: MarkupSafe>=2.0 in ./.venv/lib/python3.12/site-packages (from jinja2->altair<6,>=4.0->streamlit==1.44.0->idmd) (3.0.2)\n",
            "Requirement already satisfied: MarkupSafe>=2.0 in ./.venv/lib/python3.12/site-packages (from jinja2->altair<6,>=4.0->streamlit==1.44.0->idmd) (3.0.2)\n",
            "Requirement already satisfied: attrs>=22.2.0 in ./.venv/lib/python3.12/site-packages (from jsonschema>=3.0->altair<6,>=4.0->streamlit==1.44.0->idmd) (25.3.0)\n",
            "Requirement already satisfied: jsonschema-specifications>=2023.03.6 in ./.venv/lib/python3.12/site-packages (from jsonschema>=3.0->altair<6,>=4.0->streamlit==1.44.0->idmd) (2024.10.1)\n",
            "Requirement already satisfied: referencing>=0.28.4 in ./.venv/lib/python3.12/site-packages (from jsonschema>=3.0->altair<6,>=4.0->streamlit==1.44.0->idmd) (0.36.2)\n",
            "Requirement already satisfied: rpds-py>=0.7.1 in ./.venv/lib/python3.12/site-packages (from jsonschema>=3.0->altair<6,>=4.0->streamlit==1.44.0->idmd) (0.24.0)\n",
            "Requirement already satisfied: attrs>=22.2.0 in ./.venv/lib/python3.12/site-packages (from jsonschema>=3.0->altair<6,>=4.0->streamlit==1.44.0->idmd) (25.3.0)\n",
            "Requirement already satisfied: jsonschema-specifications>=2023.03.6 in ./.venv/lib/python3.12/site-packages (from jsonschema>=3.0->altair<6,>=4.0->streamlit==1.44.0->idmd) (2024.10.1)\n",
            "Requirement already satisfied: referencing>=0.28.4 in ./.venv/lib/python3.12/site-packages (from jsonschema>=3.0->altair<6,>=4.0->streamlit==1.44.0->idmd) (0.36.2)\n",
            "Requirement already satisfied: rpds-py>=0.7.1 in ./.venv/lib/python3.12/site-packages (from jsonschema>=3.0->altair<6,>=4.0->streamlit==1.44.0->idmd) (0.24.0)\n",
            "Note: you may need to restart the kernel to use updated packages.\n",
            "Note: you may need to restart the kernel to use updated packages.\n"
          ]
        }
      ],
      "source": [
        "%pip install --index-url https://test.pypi.org/simple/ \\\n",
        "             --extra-index-url https://pypi.org/simple \\\n",
        "             idmd"
      ]
    },
    {
      "cell_type": "markdown",
      "metadata": {
        "id": "33MMeV4iVviF"
      },
      "source": [
        "## Creating the Application\n",
        "\n",
        "Import the package and create your app using the provided components:"
      ]
    },
    {
      "cell_type": "code",
      "execution_count": 8,
      "metadata": {
        "id": "ZfCGoPB2i9mi"
      },
      "outputs": [
        {
          "name": "stdout",
          "output_type": "stream",
          "text": [
            "Overwriting app.py\n"
          ]
        }
      ],
      "source": [
        "%%writefile app.py\n",
        "from idmd import (\n",
        "    ColumnManipulatorUI,\n",
        "    DataApp,\n",
        "    DataExporterUI,\n",
        "    DataPreview,\n",
        "    DataStats,\n",
        "    DataVisualizerUI,\n",
        "    FileUploaderUI,\n",
        "    ReplaceUI,\n",
        "    ReportUI,\n",
        ")\n",
        "\n",
        "app = DataApp()\n",
        "(\n",
        "    app.set_column_name(0, \"Description | Manipulation\")\n",
        "    .add_component(FileUploaderUI())\n",
        "    .add_component(DataPreview())\n",
        "    .add_component(DataStats())\n",
        "    .add_component(ReplaceUI())\n",
        "    .add_component(ColumnManipulatorUI())\n",
        "    .add_component(DataExporterUI())\n",
        "    .add_component(ReportUI())\n",
        "    .set_column_name(1, \"Visualization | Export | Report\")\n",
        "    .add_component(DataVisualizerUI(position=1))\n",
        ")\n",
        "\n",
        "app.run()"
      ]
    },
    {
      "cell_type": "markdown",
      "metadata": {},
      "source": [
        "## Running the Application Locally\n",
        "\n",
        "Run the following command to start the Streamlit app. The app will be accessible at `http://localhost:8501`:"
      ]
    },
    {
      "cell_type": "code",
      "execution_count": 12,
      "metadata": {},
      "outputs": [
        {
          "name": "stdout",
          "output_type": "stream",
          "text": [
            "\u001b[0m\n",
            "\u001b[34m\u001b[1m  You can now view your Streamlit app in your browser.\u001b[0m\n",
            "\u001b[0m\n",
            "\u001b[34m  Local URL: \u001b[0m\u001b[1mhttp://localhost:8501\u001b[0m\n",
            "\u001b[34m  Network URL: \u001b[0m\u001b[1mhttp://192.168.252.173:8501\u001b[0m\n",
            "\u001b[0m\n",
            "\u001b[34m  Stopping...\u001b[0m\n",
            "^C\n"
          ]
        }
      ],
      "source": [
        "!streamlit run app.py"
      ]
    },
    {
      "cell_type": "markdown",
      "metadata": {},
      "source": [
        "## Running the Application on Google Colab\n",
        "\n",
        "To run the app on Google Colab, use `ngrok` to expose the Streamlit app to the web. Install `pyngrok` and run the following commands:"
      ]
    },
    {
      "cell_type": "code",
      "execution_count": 13,
      "metadata": {},
      "outputs": [
        {
          "name": "stdout",
          "output_type": "stream",
          "text": [
            "Collecting pyngrok\n",
            "  Downloading pyngrok-7.2.7-py3-none-any.whl.metadata (9.4 kB)\n",
            "Collecting PyYAML>=5.1 (from pyngrok)\n",
            "  Using cached PyYAML-6.0.2-cp312-cp312-manylinux_2_17_x86_64.manylinux2014_x86_64.whl.metadata (2.1 kB)\n",
            "Downloading pyngrok-7.2.7-py3-none-any.whl (23 kB)\n",
            "Using cached PyYAML-6.0.2-cp312-cp312-manylinux_2_17_x86_64.manylinux2014_x86_64.whl (767 kB)\n",
            "Installing collected packages: PyYAML, pyngrok\n",
            "Successfully installed PyYAML-6.0.2 pyngrok-7.2.7\n",
            "Note: you may need to restart the kernel to use updated packages.\n"
          ]
        },
        {
          "ename": "OSError",
          "evalue": "Background processes not supported.",
          "output_type": "error",
          "traceback": [
            "\u001b[31m---------------------------------------------------------------------------\u001b[39m",
            "\u001b[31mOSError\u001b[39m                                   Traceback (most recent call last)",
            "\u001b[36mCell\u001b[39m\u001b[36m \u001b[39m\u001b[32mIn[13]\u001b[39m\u001b[32m, line 4\u001b[39m\n\u001b[32m      1\u001b[39m get_ipython().run_line_magic(\u001b[33m'\u001b[39m\u001b[33mpip\u001b[39m\u001b[33m'\u001b[39m, \u001b[33m'\u001b[39m\u001b[33minstall pyngrok\u001b[39m\u001b[33m'\u001b[39m)\n\u001b[32m      2\u001b[39m \u001b[38;5;28;01mfrom\u001b[39;00m\u001b[38;5;250m \u001b[39m\u001b[34;01mpyngrok\u001b[39;00m\u001b[38;5;250m \u001b[39m\u001b[38;5;28;01mimport\u001b[39;00m ngrok\n\u001b[32m----> \u001b[39m\u001b[32m4\u001b[39m \u001b[43mget_ipython\u001b[49m\u001b[43m(\u001b[49m\u001b[43m)\u001b[49m\u001b[43m.\u001b[49m\u001b[43msystem\u001b[49m\u001b[43m(\u001b[49m\u001b[33;43m'\u001b[39;49m\u001b[33;43mstreamlit run app.py > streamlit.log 2>&1 &\u001b[39;49m\u001b[33;43m'\u001b[39;49m\u001b[43m)\u001b[49m\n\u001b[32m      6\u001b[39m public_url = ngrok.connect(\u001b[32m8501\u001b[39m)\n\u001b[32m      7\u001b[39m \u001b[38;5;28mprint\u001b[39m(\u001b[33mf\u001b[39m\u001b[33m\"\u001b[39m\u001b[33mStreamlit app is live at \u001b[39m\u001b[38;5;132;01m{\u001b[39;00mpublic_url\u001b[38;5;132;01m}\u001b[39;00m\u001b[33m\"\u001b[39m)\n",
            "\u001b[36mFile \u001b[39m\u001b[32m~/Dev/Scientific Python/idmd/.venv/lib/python3.12/site-packages/ipykernel/zmqshell.py:641\u001b[39m, in \u001b[36mZMQInteractiveShell.system_piped\u001b[39m\u001b[34m(self, cmd)\u001b[39m\n\u001b[32m    634\u001b[39m \u001b[38;5;28;01mif\u001b[39;00m cmd.rstrip().endswith(\u001b[33m\"\u001b[39m\u001b[33m&\u001b[39m\u001b[33m\"\u001b[39m):\n\u001b[32m    635\u001b[39m     \u001b[38;5;66;03m# this is *far* from a rigorous test\u001b[39;00m\n\u001b[32m    636\u001b[39m     \u001b[38;5;66;03m# We do not support backgrounding processes because we either use\u001b[39;00m\n\u001b[32m    637\u001b[39m     \u001b[38;5;66;03m# pexpect or pipes to read from.  Users can always just call\u001b[39;00m\n\u001b[32m    638\u001b[39m     \u001b[38;5;66;03m# os.system() or use ip.system=ip.system_raw\u001b[39;00m\n\u001b[32m    639\u001b[39m     \u001b[38;5;66;03m# if they really want a background process.\u001b[39;00m\n\u001b[32m    640\u001b[39m     msg = \u001b[33m\"\u001b[39m\u001b[33mBackground processes not supported.\u001b[39m\u001b[33m\"\u001b[39m\n\u001b[32m--> \u001b[39m\u001b[32m641\u001b[39m     \u001b[38;5;28;01mraise\u001b[39;00m \u001b[38;5;167;01mOSError\u001b[39;00m(msg)\n\u001b[32m    643\u001b[39m \u001b[38;5;66;03m# we explicitly do NOT return the subprocess status code, because\u001b[39;00m\n\u001b[32m    644\u001b[39m \u001b[38;5;66;03m# a non-None value would trigger :func:`sys.displayhook` calls.\u001b[39;00m\n\u001b[32m    645\u001b[39m \u001b[38;5;66;03m# Instead, we store the exit_code in user_ns.\u001b[39;00m\n\u001b[32m    646\u001b[39m \u001b[38;5;66;03m# Also, protect system call from UNC paths on Windows here too\u001b[39;00m\n\u001b[32m    647\u001b[39m \u001b[38;5;66;03m# as is done in InteractiveShell.system_raw\u001b[39;00m\n\u001b[32m    648\u001b[39m \u001b[38;5;28;01mif\u001b[39;00m sys.platform == \u001b[33m\"\u001b[39m\u001b[33mwin32\u001b[39m\u001b[33m\"\u001b[39m:\n",
            "\u001b[31mOSError\u001b[39m: Background processes not supported."
          ]
        }
      ],
      "source": [
        "%pip install pyngrok\n",
        "from pyngrok import ngrok\n",
        "\n",
        "!streamlit run app.py > streamlit.log 2>&1 &\n",
        "\n",
        "public_url = ngrok.connect(8501)\n",
        "print(f\"Streamlit app is live at {public_url}\")"
      ]
    },
    {
      "cell_type": "markdown",
      "metadata": {},
      "source": [
        "## Conclusion\n",
        "\n",
        "This example demonstrates how to use the `idmd` package to build an interactive dashboard or website. \n",
        "Feel free to explore and customize the components to suit your specific use case."
      ]
    }
  ],
  "metadata": {
    "colab": {
      "authorship_tag": "ABX9TyO24OCVMeyI3CodP6NxaGJR",
      "include_colab_link": true,
      "mount_file_id": "1H5n3ZB6AZ79_S9P6wsLN0EiG2vyqJn_F",
      "provenance": []
    },
    "kernelspec": {
      "display_name": ".venv",
      "language": "python",
      "name": "python3"
    },
    "language_info": {
      "codemirror_mode": {
        "name": "ipython",
        "version": 3
      },
      "file_extension": ".py",
      "mimetype": "text/x-python",
      "name": "python",
      "nbconvert_exporter": "python",
      "pygments_lexer": "ipython3",
      "version": "3.12.3"
    }
  },
  "nbformat": 4,
  "nbformat_minor": 0
}
